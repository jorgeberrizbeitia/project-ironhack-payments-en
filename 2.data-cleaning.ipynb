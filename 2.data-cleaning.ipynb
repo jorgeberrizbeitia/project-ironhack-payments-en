{
 "cells": [
  {
   "cell_type": "markdown",
   "metadata": {},
   "source": [
    "# Data Cleaning"
   ]
  },
  {
   "cell_type": "code",
   "execution_count": 17,
   "metadata": {},
   "outputs": [],
   "source": [
    "import pandas as pd\n",
    "\n",
    "cashrequestdf = pd.read_csv(\"project_dataset/cashreq.csv\")\n",
    "feesdf = pd.read_csv(\"project_dataset/fees.csv\")"
   ]
  },
  {
   "cell_type": "code",
   "execution_count": 18,
   "metadata": {},
   "outputs": [],
   "source": [
    "# updated column names as they have the same column name. Could create problems when merged together.\n",
    "cashrequestdf = cashrequestdf.rename(columns={\"id\": \"cash_request_id\", \"status\": \"cash_request_status\", \"created_at\": \"cash_request_created_at\", \"updated_at\": \"cash_request_updated_at\", \"reason\": \"cash_request_reason\"})\n",
    "feesdf = feesdf.rename(columns={\"id\": \"fee_id\", \"status\": \"fee_status\", \"created_at\": \"fee_created_at\", \"updated_at\": \"fee_updated_at\", \"reason\": \"fee_reason\"})"
   ]
  },
  {
   "cell_type": "code",
   "execution_count": 19,
   "metadata": {},
   "outputs": [],
   "source": [
    "# Add boolean flags\n",
    "cashrequestdf[\"was_moderated\"] = cashrequestdf[\"moderated_at\"].notna()\n",
    "cashrequestdf[\"was_deleted_account\"] = cashrequestdf[\"deleted_account_id\"].notna()\n",
    "cashrequestdf[\"was_sent\"] = cashrequestdf[\"send_at\"].notna()\n",
    "cashrequestdf[\"was_money_back\"] = cashrequestdf[\"money_back_date\"].notna()"
   ]
  },
  {
   "cell_type": "code",
   "execution_count": 20,
   "metadata": {},
   "outputs": [
    {
     "data": {
      "text/html": [
       "<div>\n",
       "<style scoped>\n",
       "    .dataframe tbody tr th:only-of-type {\n",
       "        vertical-align: middle;\n",
       "    }\n",
       "\n",
       "    .dataframe tbody tr th {\n",
       "        vertical-align: top;\n",
       "    }\n",
       "\n",
       "    .dataframe thead th {\n",
       "        text-align: right;\n",
       "    }\n",
       "</style>\n",
       "<table border=\"1\" class=\"dataframe\">\n",
       "  <thead>\n",
       "    <tr style=\"text-align: right;\">\n",
       "      <th></th>\n",
       "      <th>cash_request_id</th>\n",
       "      <th>amount</th>\n",
       "      <th>cash_request_status</th>\n",
       "      <th>cash_request_created_at</th>\n",
       "      <th>cash_request_updated_at</th>\n",
       "      <th>user_id</th>\n",
       "      <th>moderated_at</th>\n",
       "      <th>deleted_account_id</th>\n",
       "      <th>reimbursement_date</th>\n",
       "      <th>cash_request_received_date</th>\n",
       "      <th>money_back_date</th>\n",
       "      <th>transfer_type</th>\n",
       "      <th>send_at</th>\n",
       "      <th>recovery_status</th>\n",
       "      <th>reco_creation</th>\n",
       "      <th>reco_last_update</th>\n",
       "      <th>was_moderated</th>\n",
       "      <th>was_deleted_account</th>\n",
       "      <th>was_sent</th>\n",
       "      <th>was_money_back</th>\n",
       "    </tr>\n",
       "  </thead>\n",
       "  <tbody>\n",
       "    <tr>\n",
       "      <th>16114</th>\n",
       "      <td>11146</td>\n",
       "      <td>100.0</td>\n",
       "      <td>money_back</td>\n",
       "      <td>2020-08-06 13:00:49.182477+00</td>\n",
       "      <td>2020-12-18 13:10:46.478407+00</td>\n",
       "      <td>2011</td>\n",
       "      <td>2020-08-06 14:06:38.467175+00</td>\n",
       "      <td>NaN</td>\n",
       "      <td>2020-09-03 22:00:00+00</td>\n",
       "      <td>2020-08-14</td>\n",
       "      <td>2020-09-07 22:00:00+00</td>\n",
       "      <td>regular</td>\n",
       "      <td>2020-08-13 13:00:49.182054+00</td>\n",
       "      <td>NaN</td>\n",
       "      <td>NaN</td>\n",
       "      <td>NaN</td>\n",
       "      <td>True</td>\n",
       "      <td>False</td>\n",
       "      <td>True</td>\n",
       "      <td>True</td>\n",
       "    </tr>\n",
       "    <tr>\n",
       "      <th>2859</th>\n",
       "      <td>5960</td>\n",
       "      <td>100.0</td>\n",
       "      <td>rejected</td>\n",
       "      <td>2020-06-30 12:57:02.374814+00</td>\n",
       "      <td>2020-06-30 16:41:40.242354+00</td>\n",
       "      <td>14098</td>\n",
       "      <td>2020-06-30 16:41:40.238045+00</td>\n",
       "      <td>NaN</td>\n",
       "      <td>2020-07-28 22:00:00+00</td>\n",
       "      <td>NaN</td>\n",
       "      <td>NaN</td>\n",
       "      <td>regular</td>\n",
       "      <td>NaN</td>\n",
       "      <td>NaN</td>\n",
       "      <td>NaN</td>\n",
       "      <td>NaN</td>\n",
       "      <td>True</td>\n",
       "      <td>False</td>\n",
       "      <td>False</td>\n",
       "      <td>False</td>\n",
       "    </tr>\n",
       "    <tr>\n",
       "      <th>3285</th>\n",
       "      <td>11219</td>\n",
       "      <td>50.0</td>\n",
       "      <td>rejected</td>\n",
       "      <td>2020-08-06 20:15:50.356838+00</td>\n",
       "      <td>2020-08-07 09:51:34.244977+00</td>\n",
       "      <td>&lt;NA&gt;</td>\n",
       "      <td>2020-08-07 09:51:34.24248+00</td>\n",
       "      <td>13808.0</td>\n",
       "      <td>2020-08-21 23:51:00+00</td>\n",
       "      <td>NaN</td>\n",
       "      <td>NaN</td>\n",
       "      <td>instant</td>\n",
       "      <td>2020-08-13 20:15:50.356237+00</td>\n",
       "      <td>NaN</td>\n",
       "      <td>NaN</td>\n",
       "      <td>NaN</td>\n",
       "      <td>True</td>\n",
       "      <td>True</td>\n",
       "      <td>True</td>\n",
       "      <td>False</td>\n",
       "    </tr>\n",
       "    <tr>\n",
       "      <th>7724</th>\n",
       "      <td>1075</td>\n",
       "      <td>100.0</td>\n",
       "      <td>money_back</td>\n",
       "      <td>2020-04-08 06:33:50.522182+00</td>\n",
       "      <td>2020-11-04 12:55:25.635499+00</td>\n",
       "      <td>5267</td>\n",
       "      <td>2020-04-08 09:37:37.431854+00</td>\n",
       "      <td>NaN</td>\n",
       "      <td>2020-05-03 22:00:00+00</td>\n",
       "      <td>2020-04-09</td>\n",
       "      <td>2020-05-12 20:20:42.331435+00</td>\n",
       "      <td>regular</td>\n",
       "      <td>NaN</td>\n",
       "      <td>NaN</td>\n",
       "      <td>NaN</td>\n",
       "      <td>NaN</td>\n",
       "      <td>True</td>\n",
       "      <td>False</td>\n",
       "      <td>False</td>\n",
       "      <td>True</td>\n",
       "    </tr>\n",
       "    <tr>\n",
       "      <th>19269</th>\n",
       "      <td>20984</td>\n",
       "      <td>100.0</td>\n",
       "      <td>money_back</td>\n",
       "      <td>2020-10-14 07:23:26.65207+00</td>\n",
       "      <td>2020-12-18 13:12:01.624307+00</td>\n",
       "      <td>5286</td>\n",
       "      <td>NaN</td>\n",
       "      <td>NaN</td>\n",
       "      <td>2020-10-29 07:23:14.232+00</td>\n",
       "      <td>2020-10-15</td>\n",
       "      <td>2020-10-30 20:34:54.208108+00</td>\n",
       "      <td>instant</td>\n",
       "      <td>2020-10-14 07:25:42.422046+00</td>\n",
       "      <td>NaN</td>\n",
       "      <td>NaN</td>\n",
       "      <td>NaN</td>\n",
       "      <td>False</td>\n",
       "      <td>False</td>\n",
       "      <td>True</td>\n",
       "      <td>True</td>\n",
       "    </tr>\n",
       "  </tbody>\n",
       "</table>\n",
       "</div>"
      ],
      "text/plain": [
       "       cash_request_id  amount cash_request_status  \\\n",
       "16114            11146   100.0          money_back   \n",
       "2859              5960   100.0            rejected   \n",
       "3285             11219    50.0            rejected   \n",
       "7724              1075   100.0          money_back   \n",
       "19269            20984   100.0          money_back   \n",
       "\n",
       "             cash_request_created_at        cash_request_updated_at  user_id  \\\n",
       "16114  2020-08-06 13:00:49.182477+00  2020-12-18 13:10:46.478407+00     2011   \n",
       "2859   2020-06-30 12:57:02.374814+00  2020-06-30 16:41:40.242354+00    14098   \n",
       "3285   2020-08-06 20:15:50.356838+00  2020-08-07 09:51:34.244977+00     <NA>   \n",
       "7724   2020-04-08 06:33:50.522182+00  2020-11-04 12:55:25.635499+00     5267   \n",
       "19269   2020-10-14 07:23:26.65207+00  2020-12-18 13:12:01.624307+00     5286   \n",
       "\n",
       "                        moderated_at  deleted_account_id  \\\n",
       "16114  2020-08-06 14:06:38.467175+00                 NaN   \n",
       "2859   2020-06-30 16:41:40.238045+00                 NaN   \n",
       "3285    2020-08-07 09:51:34.24248+00             13808.0   \n",
       "7724   2020-04-08 09:37:37.431854+00                 NaN   \n",
       "19269                            NaN                 NaN   \n",
       "\n",
       "               reimbursement_date cash_request_received_date  \\\n",
       "16114      2020-09-03 22:00:00+00                 2020-08-14   \n",
       "2859       2020-07-28 22:00:00+00                        NaN   \n",
       "3285       2020-08-21 23:51:00+00                        NaN   \n",
       "7724       2020-05-03 22:00:00+00                 2020-04-09   \n",
       "19269  2020-10-29 07:23:14.232+00                 2020-10-15   \n",
       "\n",
       "                     money_back_date transfer_type  \\\n",
       "16114         2020-09-07 22:00:00+00       regular   \n",
       "2859                             NaN       regular   \n",
       "3285                             NaN       instant   \n",
       "7724   2020-05-12 20:20:42.331435+00       regular   \n",
       "19269  2020-10-30 20:34:54.208108+00       instant   \n",
       "\n",
       "                             send_at recovery_status reco_creation  \\\n",
       "16114  2020-08-13 13:00:49.182054+00             NaN           NaN   \n",
       "2859                             NaN             NaN           NaN   \n",
       "3285   2020-08-13 20:15:50.356237+00             NaN           NaN   \n",
       "7724                             NaN             NaN           NaN   \n",
       "19269  2020-10-14 07:25:42.422046+00             NaN           NaN   \n",
       "\n",
       "      reco_last_update  was_moderated  was_deleted_account  was_sent  \\\n",
       "16114              NaN           True                False      True   \n",
       "2859               NaN           True                False     False   \n",
       "3285               NaN           True                 True      True   \n",
       "7724               NaN           True                False     False   \n",
       "19269              NaN          False                False      True   \n",
       "\n",
       "       was_money_back  \n",
       "16114            True  \n",
       "2859            False  \n",
       "3285            False  \n",
       "7724             True  \n",
       "19269            True  "
      ]
     },
     "execution_count": 20,
     "metadata": {},
     "output_type": "execute_result"
    }
   ],
   "source": [
    "# replace user id as string\n",
    "cashrequestdf[\"user_id\"] = cashrequestdf[\"user_id\"].astype(\"Int64\")\n",
    "cashrequestdf.sample(5)"
   ]
  },
  {
   "cell_type": "code",
   "execution_count": 21,
   "metadata": {},
   "outputs": [],
   "source": [
    "# Check for invalid time sequences\n",
    "cashrequestdf[\"invalid_date_sequence\"] = ((cashrequestdf[\"cash_request_updated_at\"] < cashrequestdf[\"cash_request_created_at\"]) | (cashrequestdf[\"money_back_date\"] < cashrequestdf[\"cash_request_created_at\"]))"
   ]
  },
  {
   "cell_type": "code",
   "execution_count": 22,
   "metadata": {},
   "outputs": [
    {
     "name": "stdout",
     "output_type": "stream",
     "text": [
      "(23970, 21)\n"
     ]
    },
    {
     "data": {
      "text/plain": [
       "cash_request_id                   0\n",
       "amount                            0\n",
       "cash_request_status               0\n",
       "cash_request_created_at           0\n",
       "cash_request_updated_at           0\n",
       "user_id                        2103\n",
       "moderated_at                   7935\n",
       "deleted_account_id            21866\n",
       "reimbursement_date                0\n",
       "cash_request_received_date     7681\n",
       "money_back_date                7427\n",
       "transfer_type                     0\n",
       "send_at                        7329\n",
       "recovery_status               20640\n",
       "reco_creation                 20640\n",
       "reco_last_update              20640\n",
       "was_moderated                     0\n",
       "was_deleted_account               0\n",
       "was_sent                          0\n",
       "was_money_back                    0\n",
       "invalid_date_sequence             0\n",
       "dtype: int64"
      ]
     },
     "execution_count": 22,
     "metadata": {},
     "output_type": "execute_result"
    }
   ],
   "source": [
    "print(cashrequestdf.shape)\n",
    "cashrequestdf.isnull().sum()"
   ]
  },
  {
   "cell_type": "code",
   "execution_count": 23,
   "metadata": {},
   "outputs": [
    {
     "data": {
      "text/plain": [
       "cash_request_id                   0\n",
       "amount                            0\n",
       "cash_request_status               0\n",
       "cash_request_created_at           0\n",
       "cash_request_updated_at           0\n",
       "user_id                           0\n",
       "moderated_at                   7935\n",
       "deleted_account_id            21866\n",
       "reimbursement_date                0\n",
       "cash_request_received_date     7681\n",
       "money_back_date                7427\n",
       "transfer_type                     0\n",
       "send_at                        7329\n",
       "recovery_status               20640\n",
       "reco_creation                 20640\n",
       "reco_last_update              20640\n",
       "was_moderated                     0\n",
       "was_deleted_account               0\n",
       "was_sent                          0\n",
       "was_money_back                    0\n",
       "invalid_date_sequence             0\n",
       "dtype: int64"
      ]
     },
     "execution_count": 23,
     "metadata": {},
     "output_type": "execute_result"
    }
   ],
   "source": [
    "# 1. add add missing user_id values with deleted_account_id\n",
    "cashrequestdf[\"user_id\"] = cashrequestdf[\"user_id\"].fillna(cashrequestdf[\"deleted_account_id\"])\n",
    "cashrequestdf.isnull().sum()"
   ]
  },
  {
   "cell_type": "code",
   "execution_count": 24,
   "metadata": {},
   "outputs": [
    {
     "name": "stdout",
     "output_type": "stream",
     "text": [
      "unique users 11793\n",
      "rows users, should match above print 11793\n"
     ]
    }
   ],
   "source": [
    "# 2. add cohort depending on user first cash request\n",
    "\n",
    "# 2.1 get df with only date of first cash request per user id\n",
    "\n",
    "only_userid_and_date = cashrequestdf[[\"user_id\", \"cash_request_created_at\"]] # New DF only with user ids and cash request created date\n",
    "print(\"unique users\", only_userid_and_date[\"user_id\"].nunique())\n",
    "only_userid_and_date = only_userid_and_date.sort_values(by=\"cash_request_created_at\", ascending=True) # order by date DESC\n",
    "only_userid_and_date = only_userid_and_date.drop_duplicates(subset=[\"user_id\"], keep=\"first\") # removing duplicates user ids to only get the date of first cash request.\n",
    "only_userid_and_date = only_userid_and_date.rename(columns={\"cash_request_created_at\": \"user_first_cash_request_date\"}) # changing name of column for legibility\n",
    "print(\"rows users, should match above print\", only_userid_and_date.shape[0])"
   ]
  },
  {
   "cell_type": "code",
   "execution_count": 25,
   "metadata": {},
   "outputs": [
    {
     "data": {
      "text/plain": [
       "(23970, 23)"
      ]
     },
     "execution_count": 25,
     "metadata": {},
     "output_type": "execute_result"
    }
   ],
   "source": [
    "# 2.2 assign cohort name depending on \"first_cash_request_date\"\n",
    "from datetime import datetime\n",
    "\n",
    "only_userid_and_date[\"user_first_cash_request_date\"] = pd.to_datetime(only_userid_and_date[\"user_first_cash_request_date\"])  # Convert column to datetime\n",
    "\n",
    "def assign_cohort(each_row_value):\n",
    "  if not each_row_value:\n",
    "    print(each_row_value)\n",
    "  year = each_row_value.year\n",
    "  month = each_row_value.strftime(\"%m\") # adds a 0 in front if only one digit\n",
    "  return f\"{year}-{month}\"\n",
    "\n",
    "only_userid_and_date[\"cohort\"] = only_userid_and_date[\"user_first_cash_request_date\"].apply(assign_cohort) # adds new column with cohort name\n",
    "\n",
    "# 2.3 merged new \"cohort\" column with original\n",
    "cashrequestdf = pd.merge(left=cashrequestdf, right=only_userid_and_date, left_on=\"user_id\", right_on=\"user_id\", how=\"left\") # left just to make sure we don't remove any cash requests\n",
    "cashrequestdf.shape\n",
    "# TODO used for first metric: 1. ***Frequency of Service Usage:**"
   ]
  },
  {
   "cell_type": "code",
   "execution_count": 26,
   "metadata": {},
   "outputs": [],
   "source": [
    "# 2.4 create clean data csv\n",
    "cashrequestdf.to_csv(\"project_dataset/cashreq-clean.csv\")"
   ]
  },
  {
   "cell_type": "code",
   "execution_count": 27,
   "metadata": {},
   "outputs": [
    {
     "name": "stdout",
     "output_type": "stream",
     "text": [
      "21061\n",
      "21061\n"
     ]
    }
   ],
   "source": [
    "# 3.2. unir los dataframes  (incident rates esta en la tabla de fees)\n",
    "fees_with_user_id_and_cohort = pd.merge(left=feesdf, right=cashrequestdf, left_on=\"cash_request_id\", right_on=\"cash_request_id\", how=\"left\")\n",
    "print(feesdf.shape[0])\n",
    "print(fees_with_user_id_and_cohort.shape[0]) # same as above\n",
    "# TODO used for second metric: 2. **Incident Rate:**\n",
    "# TODO used for third metric: 3. **Revenue Generated by the Cohort:**\n"
   ]
  },
  {
   "cell_type": "code",
   "execution_count": 28,
   "metadata": {},
   "outputs": [],
   "source": [
    "# 3.2 create clean joined fees/cashreq data to csv\n",
    "fees_with_user_id_and_cohort.to_csv(\"project_dataset/fees-with-cohort-and-user-id-clean.csv\")"
   ]
  },
  {
   "cell_type": "markdown",
   "metadata": {},
   "source": [
    "# Next Steps\n",
    "\n",
    "- Analize MVP metrics\n",
    "  1. Frequency of Service Usage\n",
    "  2. Incident Rate\n",
    "  3. Revenue Generated by the Cohort"
   ]
  }
 ],
 "metadata": {
  "kernelspec": {
   "display_name": "Python 3",
   "language": "python",
   "name": "python3"
  },
  "language_info": {
   "codemirror_mode": {
    "name": "ipython",
    "version": 3
   },
   "file_extension": ".py",
   "mimetype": "text/x-python",
   "name": "python",
   "nbconvert_exporter": "python",
   "pygments_lexer": "ipython3",
   "version": "3.13.2"
  }
 },
 "nbformat": 4,
 "nbformat_minor": 2
}
