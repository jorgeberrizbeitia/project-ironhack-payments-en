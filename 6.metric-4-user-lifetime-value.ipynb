{
 "cells": [
  {
   "cell_type": "markdown",
   "metadata": {},
   "source": [
    "Exploratory Data Analysis"
   ]
  },
  {
   "cell_type": "code",
   "execution_count": 1,
   "metadata": {},
   "outputs": [
    {
     "name": "stderr",
     "output_type": "stream",
     "text": [
      "/var/folders/l6/tml7nl0s2dz6x09lhsl8hj840000gn/T/ipykernel_85097/1667466518.py:4: DtypeWarning: Columns (29,30,31,32,33) have mixed types. Specify dtype option on import or set low_memory=False.\n",
      "  fees_and_cohorts_df = pd.read_csv(\"project_dataset/fees-with-cohort-and-user-id-clean.csv\")\n"
     ]
    }
   ],
   "source": [
    "import pandas as pd\n",
    "\n",
    "cashrequest_df = pd.read_csv(\"project_dataset/cashreq-clean.csv\")\n",
    "fees_and_cohorts_df = pd.read_csv(\"project_dataset/fees-with-cohort-and-user-id-clean.csv\")"
   ]
  },
  {
   "cell_type": "code",
   "execution_count": null,
   "metadata": {},
   "outputs": [],
   "source": [
    "# Ricardo: Extra metric 1: User Lifetime Value (uLTV)\n",
    "# Hypothesis: Users with longer active periods generate more revenue through fees."
   ]
  }
 ],
 "metadata": {
  "kernelspec": {
   "display_name": "Python 3",
   "language": "python",
   "name": "python3"
  },
  "language_info": {
   "codemirror_mode": {
    "name": "ipython",
    "version": 3
   },
   "file_extension": ".py",
   "mimetype": "text/x-python",
   "name": "python",
   "nbconvert_exporter": "python",
   "pygments_lexer": "ipython3",
   "version": "3.13.2"
  }
 },
 "nbformat": 4,
 "nbformat_minor": 2
}
