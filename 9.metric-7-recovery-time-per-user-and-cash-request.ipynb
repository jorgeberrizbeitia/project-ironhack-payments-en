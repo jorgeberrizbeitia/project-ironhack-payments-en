{
 "cells": [
  {
   "cell_type": "markdown",
   "metadata": {},
   "source": [
    "Exploratory Data Analysis"
   ]
  },
  {
   "cell_type": "code",
   "execution_count": 1,
   "metadata": {},
   "outputs": [
    {
     "name": "stderr",
     "output_type": "stream",
     "text": [
      "C:\\Users\\edumc\\AppData\\Local\\Temp\\ipykernel_17708\\1667466518.py:4: DtypeWarning: Columns (29,30,31,32,33) have mixed types. Specify dtype option on import or set low_memory=False.\n",
      "  fees_and_cohorts_df = pd.read_csv(\"project_dataset/fees-with-cohort-and-user-id-clean.csv\")\n"
     ]
    }
   ],
   "source": [
    "import pandas as pd\n",
    "\n",
    "cashrequest_df = pd.read_csv(\"project_dataset/cashreq-clean.csv\")\n",
    "fees_and_cohorts_df = pd.read_csv(\"project_dataset/fees-with-cohort-and-user-id-clean.csv\")"
   ]
  },
  {
   "cell_type": "code",
   "execution_count": null,
   "metadata": {},
   "outputs": [],
   "source": [
    "# Edu: EXTRA metric 4:\n",
    "# relacion volumen de cash reques contra reco creation y reco resolve. Los que piden poco han tenido incidencias más largas (recovery)\n",
    "\n",
    "\n",
    "# \"We analyzed the relationship between the volume of cash requests and the creation and resolution of recovery cases.\n",
    "# Hypothesis to test: Users with fewer requests tend to experience longer recovery times.\n",
    "#New Metric: XXXX\n",
    "# Columns: \n",
    "\n"
   ]
  },
  {
   "cell_type": "code",
   "execution_count": null,
   "metadata": {},
   "outputs": [
    {
     "ename": "SyntaxError",
     "evalue": "invalid syntax (300597740.py, line 1)",
     "output_type": "error",
     "traceback": [
      "\u001b[1;36m  Cell \u001b[1;32mIn[3], line 1\u001b[1;36m\u001b[0m\n\u001b[1;33m    Function for showing data with seaborn:\u001b[0m\n\u001b[1;37m             ^\u001b[0m\n\u001b[1;31mSyntaxError\u001b[0m\u001b[1;31m:\u001b[0m invalid syntax\n"
     ]
    }
   ],
   "source": [
    "#Function for showing data with seaborn:\n",
    "sns.set_theme(style=\"whitegrid\")\n",
    "plt.figure(figsize=(10, 6))\n",
    "sns.countplot(data=incident_feed, x='cohort', palette='viridis')  # <- Notice y='Country' instead of x\n",
    "incident_feed.pivot.plot(kind='bar', stacked=True, colormap='viridis')\n",
    "plt.title('Fee Incidents by Cohort')\n",
    "plt.xlabel('Cohort')\n",
    "plt.ylabel('Fee Incidents')\n",
    "plt.xticks(rotation=45, ha='right')  # Rotate x labels for better visibility\n",
    "plt.tight_layout()\n",
    "plt.show()   \n",
    "    \n",
    "    \n",
    "    "
   ]
  }
 ],
 "metadata": {
  "kernelspec": {
   "display_name": "Python 3",
   "language": "python",
   "name": "python3"
  },
  "language_info": {
   "codemirror_mode": {
    "name": "ipython",
    "version": 3
   },
   "file_extension": ".py",
   "mimetype": "text/x-python",
   "name": "python",
   "nbconvert_exporter": "python",
   "pygments_lexer": "ipython3",
   "version": "3.13.2"
  }
 },
 "nbformat": 4,
 "nbformat_minor": 2
}
