{
 "cells": [
  {
   "cell_type": "markdown",
   "metadata": {},
   "source": [
    "Exploratory Data Analysis"
   ]
  },
  {
   "cell_type": "code",
   "execution_count": 54,
   "metadata": {},
   "outputs": [],
   "source": [
    "import pandas as pd\n",
    "\n",
    "cashrequestdf = pd.read_csv(\"project_dataset/cashreq.csv\")\n",
    "feesdf = pd.read_csv(\"project_dataset/fees.csv\")"
   ]
  },
  {
   "cell_type": "code",
   "execution_count": 55,
   "metadata": {},
   "outputs": [
    {
     "name": "stdout",
     "output_type": "stream",
     "text": [
      "first created date is:  2019-11-19 13:57:53.511561+00\n",
      "last created date is:  2020-11-01 23:42:30.847066+00\n",
      "(23970, 16)\n"
     ]
    }
   ],
   "source": [
    "print(\"first created date is: \",cashrequestdf[\"created_at\"].min())\n",
    "print(\"last created date is: \",cashrequestdf[\"created_at\"].max())\n",
    "print(cashrequestdf.shape)"
   ]
  },
  {
   "cell_type": "code",
   "execution_count": 56,
   "metadata": {},
   "outputs": [
    {
     "data": {
      "text/html": [
       "<div>\n",
       "<style scoped>\n",
       "    .dataframe tbody tr th:only-of-type {\n",
       "        vertical-align: middle;\n",
       "    }\n",
       "\n",
       "    .dataframe tbody tr th {\n",
       "        vertical-align: top;\n",
       "    }\n",
       "\n",
       "    .dataframe thead th {\n",
       "        text-align: right;\n",
       "    }\n",
       "</style>\n",
       "<table border=\"1\" class=\"dataframe\">\n",
       "  <thead>\n",
       "    <tr style=\"text-align: right;\">\n",
       "      <th></th>\n",
       "      <th>id</th>\n",
       "      <th>amount</th>\n",
       "      <th>user_id</th>\n",
       "      <th>deleted_account_id</th>\n",
       "    </tr>\n",
       "  </thead>\n",
       "  <tbody>\n",
       "    <tr>\n",
       "      <th>count</th>\n",
       "      <td>23970.000000</td>\n",
       "      <td>23970.000000</td>\n",
       "      <td>21867.000000</td>\n",
       "      <td>2104.000000</td>\n",
       "    </tr>\n",
       "    <tr>\n",
       "      <th>mean</th>\n",
       "      <td>13910.966124</td>\n",
       "      <td>82.720818</td>\n",
       "      <td>32581.250789</td>\n",
       "      <td>9658.755228</td>\n",
       "    </tr>\n",
       "    <tr>\n",
       "      <th>std</th>\n",
       "      <td>7788.117214</td>\n",
       "      <td>26.528065</td>\n",
       "      <td>27618.565773</td>\n",
       "      <td>7972.743249</td>\n",
       "    </tr>\n",
       "    <tr>\n",
       "      <th>min</th>\n",
       "      <td>3.000000</td>\n",
       "      <td>1.000000</td>\n",
       "      <td>34.000000</td>\n",
       "      <td>91.000000</td>\n",
       "    </tr>\n",
       "    <tr>\n",
       "      <th>25%</th>\n",
       "      <td>7427.250000</td>\n",
       "      <td>50.000000</td>\n",
       "      <td>10804.000000</td>\n",
       "      <td>3767.000000</td>\n",
       "    </tr>\n",
       "    <tr>\n",
       "      <th>50%</th>\n",
       "      <td>14270.500000</td>\n",
       "      <td>100.000000</td>\n",
       "      <td>23773.000000</td>\n",
       "      <td>6121.500000</td>\n",
       "    </tr>\n",
       "    <tr>\n",
       "      <th>75%</th>\n",
       "      <td>20607.750000</td>\n",
       "      <td>100.000000</td>\n",
       "      <td>46965.000000</td>\n",
       "      <td>16345.000000</td>\n",
       "    </tr>\n",
       "    <tr>\n",
       "      <th>max</th>\n",
       "      <td>27010.000000</td>\n",
       "      <td>200.000000</td>\n",
       "      <td>103719.000000</td>\n",
       "      <td>30445.000000</td>\n",
       "    </tr>\n",
       "  </tbody>\n",
       "</table>\n",
       "</div>"
      ],
      "text/plain": [
       "                 id        amount        user_id  deleted_account_id\n",
       "count  23970.000000  23970.000000   21867.000000         2104.000000\n",
       "mean   13910.966124     82.720818   32581.250789         9658.755228\n",
       "std     7788.117214     26.528065   27618.565773         7972.743249\n",
       "min        3.000000      1.000000      34.000000           91.000000\n",
       "25%     7427.250000     50.000000   10804.000000         3767.000000\n",
       "50%    14270.500000    100.000000   23773.000000         6121.500000\n",
       "75%    20607.750000    100.000000   46965.000000        16345.000000\n",
       "max    27010.000000    200.000000  103719.000000        30445.000000"
      ]
     },
     "execution_count": 56,
     "metadata": {},
     "output_type": "execute_result"
    }
   ],
   "source": [
    "cashrequestdf.describe()"
   ]
  },
  {
   "cell_type": "code",
   "execution_count": 57,
   "metadata": {},
   "outputs": [
    {
     "data": {
      "text/plain": [
       "id                                0\n",
       "amount                            0\n",
       "status                            0\n",
       "created_at                        0\n",
       "updated_at                        0\n",
       "user_id                        2103\n",
       "moderated_at                   7935\n",
       "deleted_account_id            21866\n",
       "reimbursement_date                0\n",
       "cash_request_received_date     7681\n",
       "money_back_date                7427\n",
       "transfer_type                     0\n",
       "send_at                        7329\n",
       "recovery_status               20640\n",
       "reco_creation                 20640\n",
       "reco_last_update              20640\n",
       "dtype: int64"
      ]
     },
     "execution_count": 57,
     "metadata": {},
     "output_type": "execute_result"
    }
   ],
   "source": [
    "cashrequestdf.isnull().sum() # 2130 user_id missing"
   ]
  },
  {
   "cell_type": "code",
   "execution_count": 58,
   "metadata": {},
   "outputs": [
    {
     "data": {
      "text/plain": [
       "id                            23970\n",
       "amount                           41\n",
       "status                            7\n",
       "created_at                    23970\n",
       "updated_at                    23970\n",
       "user_id                       10798\n",
       "moderated_at                  16035\n",
       "deleted_account_id             1141\n",
       "reimbursement_date             4089\n",
       "cash_request_received_date      312\n",
       "money_back_date               12221\n",
       "transfer_type                     2\n",
       "send_at                       16641\n",
       "recovery_status                   4\n",
       "reco_creation                  3330\n",
       "reco_last_update               3330\n",
       "dtype: int64"
      ]
     },
     "execution_count": 58,
     "metadata": {},
     "output_type": "execute_result"
    }
   ],
   "source": [
    "cashrequestdf.nunique()"
   ]
  },
  {
   "cell_type": "code",
   "execution_count": 59,
   "metadata": {},
   "outputs": [
    {
     "data": {
      "text/plain": [
       "id                 21061\n",
       "cash_request_id    12933\n",
       "type                   3\n",
       "status                 4\n",
       "category               2\n",
       "total_amount           2\n",
       "reason             15149\n",
       "created_at         21026\n",
       "updated_at         21061\n",
       "paid_at            15529\n",
       "from_date           1084\n",
       "to_date             1560\n",
       "charge_moment          2\n",
       "dtype: int64"
      ]
     },
     "execution_count": 59,
     "metadata": {},
     "output_type": "execute_result"
    }
   ],
   "source": [
    "feesdf.nunique()\n",
    "#Vemos que cuando el type es = incident entonces category = month_delay_on_payment o deject_direct_debit."
   ]
  },
  {
   "cell_type": "code",
   "execution_count": 60,
   "metadata": {},
   "outputs": [
    {
     "data": {
      "text/html": [
       "<div>\n",
       "<style scoped>\n",
       "    .dataframe tbody tr th:only-of-type {\n",
       "        vertical-align: middle;\n",
       "    }\n",
       "\n",
       "    .dataframe tbody tr th {\n",
       "        vertical-align: top;\n",
       "    }\n",
       "\n",
       "    .dataframe thead th {\n",
       "        text-align: right;\n",
       "    }\n",
       "</style>\n",
       "<table border=\"1\" class=\"dataframe\">\n",
       "  <thead>\n",
       "    <tr style=\"text-align: right;\">\n",
       "      <th></th>\n",
       "      <th>id</th>\n",
       "      <th>cash_request_id</th>\n",
       "      <th>type</th>\n",
       "      <th>status</th>\n",
       "      <th>category</th>\n",
       "      <th>total_amount</th>\n",
       "      <th>reason</th>\n",
       "      <th>created_at</th>\n",
       "      <th>updated_at</th>\n",
       "      <th>paid_at</th>\n",
       "      <th>from_date</th>\n",
       "      <th>to_date</th>\n",
       "      <th>charge_moment</th>\n",
       "    </tr>\n",
       "  </thead>\n",
       "  <tbody>\n",
       "    <tr>\n",
       "      <th>20604</th>\n",
       "      <td>15552</td>\n",
       "      <td>22799.0</td>\n",
       "      <td>instant_payment</td>\n",
       "      <td>accepted</td>\n",
       "      <td>NaN</td>\n",
       "      <td>10.0</td>\n",
       "      <td>Instant Payment Cash Request 22799</td>\n",
       "      <td>2020-10-21 13:01:52.493241+00</td>\n",
       "      <td>2021-01-21 15:42:51.372269+00</td>\n",
       "      <td>2020-10-30 00:18:41+00</td>\n",
       "      <td>NaN</td>\n",
       "      <td>NaN</td>\n",
       "      <td>after</td>\n",
       "    </tr>\n",
       "  </tbody>\n",
       "</table>\n",
       "</div>"
      ],
      "text/plain": [
       "          id  cash_request_id             type    status category  \\\n",
       "20604  15552          22799.0  instant_payment  accepted      NaN   \n",
       "\n",
       "       total_amount                              reason  \\\n",
       "20604          10.0  Instant Payment Cash Request 22799   \n",
       "\n",
       "                          created_at                     updated_at  \\\n",
       "20604  2020-10-21 13:01:52.493241+00  2021-01-21 15:42:51.372269+00   \n",
       "\n",
       "                      paid_at from_date to_date charge_moment  \n",
       "20604  2020-10-30 00:18:41+00       NaN     NaN         after  "
      ]
     },
     "execution_count": 60,
     "metadata": {},
     "output_type": "execute_result"
    }
   ],
   "source": [
    "feesdf[feesdf[\"total_amount\"] != 5.0]\n",
    "#Hemos encontrado un valor de total_amount = 10.0 en un unico caso lo que nos hace suponer que se trata de un error del sistema."
   ]
  },
  {
   "cell_type": "markdown",
   "metadata": {},
   "source": [
    "#proximos pasos:\n",
    "\n",
    "1. arreglar columna de user_id\n",
    "2. agregar el cohort dependiendo de la primer transaccion\n",
    "3. unir los dataframes  (incident rates esta en la tabla de fees)\n",
    "4. crear un nuevo dataframe que combine las columnas que queremos (para revenue vamos a tener que calcular total_amount por mes y por usuario)"
   ]
  },
  {
   "cell_type": "code",
   "execution_count": 61,
   "metadata": {},
   "outputs": [],
   "source": [
    "# updated column names as they have the same column name. Could create problems when merged together.\n",
    "cashrequestdf = cashrequestdf.rename(columns={\"id\": \"cash_request_id\", \"status\": \"cash_request_status\", \"created_at\": \"cash_request_created_at\", \"updated_at\": \"cash_request_updated_at\", \"reason\": \"cash_request_reason\"})\n",
    "feesdf = feesdf.rename(columns={\"id\": \"fee_id\", \"status\": \"fee_status\", \"created_at\": \"fee_created_at\", \"updated_at\": \"fee_updated_at\", \"reason\": \"fee_reason\"})"
   ]
  },
  {
   "cell_type": "code",
   "execution_count": 62,
   "metadata": {},
   "outputs": [],
   "source": [
    "# Add boolean flags\n",
    "cashrequestdf[\"was_moderated\"] = cashrequestdf[\"moderated_at\"].notna()\n",
    "cashrequestdf[\"was_deleted_account\"] = cashrequestdf[\"deleted_account_id\"].notna()\n",
    "cashrequestdf[\"was_sent\"] = cashrequestdf[\"send_at\"].notna()\n",
    "cashrequestdf[\"was_money_back\"] = cashrequestdf[\"money_back_date\"].notna()"
   ]
  },
  {
   "cell_type": "code",
   "execution_count": 63,
   "metadata": {},
   "outputs": [
    {
     "data": {
      "text/html": [
       "<div>\n",
       "<style scoped>\n",
       "    .dataframe tbody tr th:only-of-type {\n",
       "        vertical-align: middle;\n",
       "    }\n",
       "\n",
       "    .dataframe tbody tr th {\n",
       "        vertical-align: top;\n",
       "    }\n",
       "\n",
       "    .dataframe thead th {\n",
       "        text-align: right;\n",
       "    }\n",
       "</style>\n",
       "<table border=\"1\" class=\"dataframe\">\n",
       "  <thead>\n",
       "    <tr style=\"text-align: right;\">\n",
       "      <th></th>\n",
       "      <th>cash_request_id</th>\n",
       "      <th>amount</th>\n",
       "      <th>cash_request_status</th>\n",
       "      <th>cash_request_created_at</th>\n",
       "      <th>cash_request_updated_at</th>\n",
       "      <th>user_id</th>\n",
       "      <th>moderated_at</th>\n",
       "      <th>deleted_account_id</th>\n",
       "      <th>reimbursement_date</th>\n",
       "      <th>cash_request_received_date</th>\n",
       "      <th>money_back_date</th>\n",
       "      <th>transfer_type</th>\n",
       "      <th>send_at</th>\n",
       "      <th>recovery_status</th>\n",
       "      <th>reco_creation</th>\n",
       "      <th>reco_last_update</th>\n",
       "      <th>was_moderated</th>\n",
       "      <th>was_deleted_account</th>\n",
       "      <th>was_sent</th>\n",
       "      <th>was_money_back</th>\n",
       "    </tr>\n",
       "  </thead>\n",
       "  <tbody>\n",
       "    <tr>\n",
       "      <th>18398</th>\n",
       "      <td>19895</td>\n",
       "      <td>100.0</td>\n",
       "      <td>money_back</td>\n",
       "      <td>2020-10-08 14:40:22.432799+00</td>\n",
       "      <td>2020-12-18 13:11:40.889139+00</td>\n",
       "      <td>60671</td>\n",
       "      <td>NaN</td>\n",
       "      <td>NaN</td>\n",
       "      <td>2020-11-01 11:00:00+00</td>\n",
       "      <td>2020-10-10</td>\n",
       "      <td>2020-10-30 21:29:07.527987+00</td>\n",
       "      <td>instant</td>\n",
       "      <td>2020-10-08 14:40:43.449725+00</td>\n",
       "      <td>NaN</td>\n",
       "      <td>NaN</td>\n",
       "      <td>NaN</td>\n",
       "      <td>False</td>\n",
       "      <td>False</td>\n",
       "      <td>True</td>\n",
       "      <td>True</td>\n",
       "    </tr>\n",
       "    <tr>\n",
       "      <th>18462</th>\n",
       "      <td>12826</td>\n",
       "      <td>100.0</td>\n",
       "      <td>money_back</td>\n",
       "      <td>2020-08-17 17:44:10.720138+00</td>\n",
       "      <td>2020-12-18 13:11:43.507089+00</td>\n",
       "      <td>36050</td>\n",
       "      <td>NaN</td>\n",
       "      <td>NaN</td>\n",
       "      <td>2020-09-03 17:44:10.687392+00</td>\n",
       "      <td>2020-08-19</td>\n",
       "      <td>2020-10-09 09:43:12.136688+00</td>\n",
       "      <td>instant</td>\n",
       "      <td>2020-08-24 17:44:10.687392+00</td>\n",
       "      <td>completed</td>\n",
       "      <td>2020-10-08 22:58:21.018704+00</td>\n",
       "      <td>2020-10-09 09:43:12.162512+00</td>\n",
       "      <td>False</td>\n",
       "      <td>False</td>\n",
       "      <td>True</td>\n",
       "      <td>True</td>\n",
       "    </tr>\n",
       "    <tr>\n",
       "      <th>22691</th>\n",
       "      <td>24368</td>\n",
       "      <td>25.0</td>\n",
       "      <td>money_back</td>\n",
       "      <td>2020-10-25 13:25:11.204649+00</td>\n",
       "      <td>2020-12-18 13:13:49.974253+00</td>\n",
       "      <td>34421</td>\n",
       "      <td>NaN</td>\n",
       "      <td>NaN</td>\n",
       "      <td>2020-11-09 13:25:05.656+00</td>\n",
       "      <td>2020-10-28</td>\n",
       "      <td>2020-11-09 19:06:14.729649+00</td>\n",
       "      <td>instant</td>\n",
       "      <td>2020-10-26 20:09:28.733264+00</td>\n",
       "      <td>NaN</td>\n",
       "      <td>NaN</td>\n",
       "      <td>NaN</td>\n",
       "      <td>False</td>\n",
       "      <td>False</td>\n",
       "      <td>True</td>\n",
       "      <td>True</td>\n",
       "    </tr>\n",
       "    <tr>\n",
       "      <th>19981</th>\n",
       "      <td>22046</td>\n",
       "      <td>40.0</td>\n",
       "      <td>money_back</td>\n",
       "      <td>2020-10-19 06:29:23.053786+00</td>\n",
       "      <td>2020-12-18 13:12:19.347162+00</td>\n",
       "      <td>9943</td>\n",
       "      <td>2020-10-19 07:48:23.483614+00</td>\n",
       "      <td>NaN</td>\n",
       "      <td>2020-11-04 23:51:00+00</td>\n",
       "      <td>2020-10-19</td>\n",
       "      <td>2020-11-05 20:35:42.479148+00</td>\n",
       "      <td>instant</td>\n",
       "      <td>2020-10-19 06:29:28.930348+00</td>\n",
       "      <td>NaN</td>\n",
       "      <td>NaN</td>\n",
       "      <td>NaN</td>\n",
       "      <td>True</td>\n",
       "      <td>False</td>\n",
       "      <td>True</td>\n",
       "      <td>True</td>\n",
       "    </tr>\n",
       "    <tr>\n",
       "      <th>3082</th>\n",
       "      <td>7836</td>\n",
       "      <td>100.0</td>\n",
       "      <td>rejected</td>\n",
       "      <td>2020-07-13 15:52:16.845224+00</td>\n",
       "      <td>2020-07-14 12:36:37.767239+00</td>\n",
       "      <td>20743</td>\n",
       "      <td>2020-07-14 12:36:37.764791+00</td>\n",
       "      <td>NaN</td>\n",
       "      <td>2020-07-31 22:00:00+00</td>\n",
       "      <td>NaN</td>\n",
       "      <td>NaN</td>\n",
       "      <td>regular</td>\n",
       "      <td>NaN</td>\n",
       "      <td>NaN</td>\n",
       "      <td>NaN</td>\n",
       "      <td>NaN</td>\n",
       "      <td>True</td>\n",
       "      <td>False</td>\n",
       "      <td>False</td>\n",
       "      <td>False</td>\n",
       "    </tr>\n",
       "  </tbody>\n",
       "</table>\n",
       "</div>"
      ],
      "text/plain": [
       "       cash_request_id  amount cash_request_status  \\\n",
       "18398            19895   100.0          money_back   \n",
       "18462            12826   100.0          money_back   \n",
       "22691            24368    25.0          money_back   \n",
       "19981            22046    40.0          money_back   \n",
       "3082              7836   100.0            rejected   \n",
       "\n",
       "             cash_request_created_at        cash_request_updated_at  user_id  \\\n",
       "18398  2020-10-08 14:40:22.432799+00  2020-12-18 13:11:40.889139+00    60671   \n",
       "18462  2020-08-17 17:44:10.720138+00  2020-12-18 13:11:43.507089+00    36050   \n",
       "22691  2020-10-25 13:25:11.204649+00  2020-12-18 13:13:49.974253+00    34421   \n",
       "19981  2020-10-19 06:29:23.053786+00  2020-12-18 13:12:19.347162+00     9943   \n",
       "3082   2020-07-13 15:52:16.845224+00  2020-07-14 12:36:37.767239+00    20743   \n",
       "\n",
       "                        moderated_at  deleted_account_id  \\\n",
       "18398                            NaN                 NaN   \n",
       "18462                            NaN                 NaN   \n",
       "22691                            NaN                 NaN   \n",
       "19981  2020-10-19 07:48:23.483614+00                 NaN   \n",
       "3082   2020-07-14 12:36:37.764791+00                 NaN   \n",
       "\n",
       "                  reimbursement_date cash_request_received_date  \\\n",
       "18398         2020-11-01 11:00:00+00                 2020-10-10   \n",
       "18462  2020-09-03 17:44:10.687392+00                 2020-08-19   \n",
       "22691     2020-11-09 13:25:05.656+00                 2020-10-28   \n",
       "19981         2020-11-04 23:51:00+00                 2020-10-19   \n",
       "3082          2020-07-31 22:00:00+00                        NaN   \n",
       "\n",
       "                     money_back_date transfer_type  \\\n",
       "18398  2020-10-30 21:29:07.527987+00       instant   \n",
       "18462  2020-10-09 09:43:12.136688+00       instant   \n",
       "22691  2020-11-09 19:06:14.729649+00       instant   \n",
       "19981  2020-11-05 20:35:42.479148+00       instant   \n",
       "3082                             NaN       regular   \n",
       "\n",
       "                             send_at recovery_status  \\\n",
       "18398  2020-10-08 14:40:43.449725+00             NaN   \n",
       "18462  2020-08-24 17:44:10.687392+00       completed   \n",
       "22691  2020-10-26 20:09:28.733264+00             NaN   \n",
       "19981  2020-10-19 06:29:28.930348+00             NaN   \n",
       "3082                             NaN             NaN   \n",
       "\n",
       "                       reco_creation               reco_last_update  \\\n",
       "18398                            NaN                            NaN   \n",
       "18462  2020-10-08 22:58:21.018704+00  2020-10-09 09:43:12.162512+00   \n",
       "22691                            NaN                            NaN   \n",
       "19981                            NaN                            NaN   \n",
       "3082                             NaN                            NaN   \n",
       "\n",
       "       was_moderated  was_deleted_account  was_sent  was_money_back  \n",
       "18398          False                False      True            True  \n",
       "18462          False                False      True            True  \n",
       "22691          False                False      True            True  \n",
       "19981           True                False      True            True  \n",
       "3082            True                False     False           False  "
      ]
     },
     "execution_count": 63,
     "metadata": {},
     "output_type": "execute_result"
    }
   ],
   "source": [
    "# replace user id as string\n",
    "cashrequestdf[\"user_id\"] = cashrequestdf[\"user_id\"].astype(\"Int64\")\n",
    "cashrequestdf.sample(5)"
   ]
  },
  {
   "cell_type": "code",
   "execution_count": 64,
   "metadata": {},
   "outputs": [],
   "source": [
    "# Check for invalid time sequences\n",
    "cashrequestdf[\"invalid_date_sequence\"] = ((cashrequestdf[\"cash_request_updated_at\"] < cashrequestdf[\"cash_request_created_at\"]) | (cashrequestdf[\"money_back_date\"] < cashrequestdf[\"cash_request_created_at\"]))"
   ]
  },
  {
   "cell_type": "code",
   "execution_count": 65,
   "metadata": {},
   "outputs": [
    {
     "name": "stdout",
     "output_type": "stream",
     "text": [
      "(23970, 21)\n"
     ]
    },
    {
     "data": {
      "text/plain": [
       "cash_request_id                   0\n",
       "amount                            0\n",
       "cash_request_status               0\n",
       "cash_request_created_at           0\n",
       "cash_request_updated_at           0\n",
       "user_id                        2103\n",
       "moderated_at                   7935\n",
       "deleted_account_id            21866\n",
       "reimbursement_date                0\n",
       "cash_request_received_date     7681\n",
       "money_back_date                7427\n",
       "transfer_type                     0\n",
       "send_at                        7329\n",
       "recovery_status               20640\n",
       "reco_creation                 20640\n",
       "reco_last_update              20640\n",
       "was_moderated                     0\n",
       "was_deleted_account               0\n",
       "was_sent                          0\n",
       "was_money_back                    0\n",
       "invalid_date_sequence             0\n",
       "dtype: int64"
      ]
     },
     "execution_count": 65,
     "metadata": {},
     "output_type": "execute_result"
    }
   ],
   "source": [
    "print(cashrequestdf.shape)\n",
    "cashrequestdf.isnull().sum()"
   ]
  },
  {
   "cell_type": "code",
   "execution_count": 66,
   "metadata": {},
   "outputs": [
    {
     "data": {
      "text/plain": [
       "cash_request_id                   0\n",
       "amount                            0\n",
       "cash_request_status               0\n",
       "cash_request_created_at           0\n",
       "cash_request_updated_at           0\n",
       "user_id                           0\n",
       "moderated_at                   7935\n",
       "deleted_account_id            21866\n",
       "reimbursement_date                0\n",
       "cash_request_received_date     7681\n",
       "money_back_date                7427\n",
       "transfer_type                     0\n",
       "send_at                        7329\n",
       "recovery_status               20640\n",
       "reco_creation                 20640\n",
       "reco_last_update              20640\n",
       "was_moderated                     0\n",
       "was_deleted_account               0\n",
       "was_sent                          0\n",
       "was_money_back                    0\n",
       "invalid_date_sequence             0\n",
       "dtype: int64"
      ]
     },
     "execution_count": 66,
     "metadata": {},
     "output_type": "execute_result"
    }
   ],
   "source": [
    "# 1. arreglar columna de user_id\n",
    "cashrequestdf[\"user_id\"] = cashrequestdf[\"user_id\"].fillna(cashrequestdf[\"deleted_account_id\"])\n",
    "cashrequestdf.isnull().sum()"
   ]
  },
  {
   "cell_type": "code",
   "execution_count": 67,
   "metadata": {},
   "outputs": [
    {
     "name": "stdout",
     "output_type": "stream",
     "text": [
      "unique users 11793\n",
      "rows users, should match above print 11793\n"
     ]
    }
   ],
   "source": [
    "# 2. agregar el cohort dependiendo de la primer transaccion\n",
    "\n",
    "# 2.1 get df with only date of first cash request per user id\n",
    "\n",
    "only_userid_and_date = cashrequestdf[[\"user_id\", \"cash_request_created_at\"]] # New DF only with user ids and cash request created date\n",
    "print(\"unique users\", only_userid_and_date[\"user_id\"].nunique())\n",
    "only_userid_and_date = only_userid_and_date.sort_values(by=\"cash_request_created_at\", ascending=True) # ordenar por fecha ascendente\n",
    "only_userid_and_date = only_userid_and_date.drop_duplicates(subset=[\"user_id\"], keep=\"first\") # removing duplicates user ids to only get the date of first cash request.\n",
    "only_userid_and_date = only_userid_and_date.rename(columns={\"cash_request_created_at\": \"user_first_cash_request_date\"}) # changing name of column for legibility\n",
    "print(\"rows users, should match above print\", only_userid_and_date.shape[0])"
   ]
  },
  {
   "cell_type": "code",
   "execution_count": null,
   "metadata": {},
   "outputs": [
    {
     "data": {
      "text/plain": [
       "(23970, 23)"
      ]
     },
     "execution_count": 68,
     "metadata": {},
     "output_type": "execute_result"
    }
   ],
   "source": [
    "# 2.2 assign cohort name depending on \"first_cash_request_date\"\n",
    "from datetime import datetime\n",
    "\n",
    "only_userid_and_date[\"user_first_cash_request_date\"] = pd.to_datetime(only_userid_and_date[\"user_first_cash_request_date\"])  # Convert column to datetime\n",
    "\n",
    "def assign_cohort(each_row_value):\n",
    "  year = each_row_value.year\n",
    "  month = each_row_value.strftime(\"%m\") # adds a 0 in front if only one digit\n",
    "  return f\"{year}-{month}\"\n",
    "\n",
    "only_userid_and_date[\"cohort\"] = only_userid_and_date[\"user_first_cash_request_date\"].apply(assign_cohort) # adds new column with cohort name\n",
    "\n",
    "\n",
    "# 2.3 merged new \"cohort\" column with original\n",
    "cashrequestdf = pd.merge(left=cashrequestdf, right=only_userid_and_date, left_on=\"user_id\", right_on=\"user_id\", how=\"left\") # left just to make sure we don't remove any cash requests\n",
    "cashrequestdf.shape"
   ]
  },
  {
   "cell_type": "code",
   "execution_count": 69,
   "metadata": {},
   "outputs": [
    {
     "data": {
      "text/html": [
       "<div>\n",
       "<style scoped>\n",
       "    .dataframe tbody tr th:only-of-type {\n",
       "        vertical-align: middle;\n",
       "    }\n",
       "\n",
       "    .dataframe tbody tr th {\n",
       "        vertical-align: top;\n",
       "    }\n",
       "\n",
       "    .dataframe thead th {\n",
       "        text-align: right;\n",
       "    }\n",
       "</style>\n",
       "<table border=\"1\" class=\"dataframe\">\n",
       "  <thead>\n",
       "    <tr style=\"text-align: right;\">\n",
       "      <th></th>\n",
       "      <th>cash_request_id</th>\n",
       "      <th>amount</th>\n",
       "      <th>cash_request_status</th>\n",
       "      <th>cash_request_created_at</th>\n",
       "      <th>cash_request_updated_at</th>\n",
       "      <th>user_id</th>\n",
       "      <th>moderated_at</th>\n",
       "      <th>deleted_account_id</th>\n",
       "      <th>reimbursement_date</th>\n",
       "      <th>cash_request_received_date</th>\n",
       "      <th>...</th>\n",
       "      <th>recovery_status</th>\n",
       "      <th>reco_creation</th>\n",
       "      <th>reco_last_update</th>\n",
       "      <th>was_moderated</th>\n",
       "      <th>was_deleted_account</th>\n",
       "      <th>was_sent</th>\n",
       "      <th>was_money_back</th>\n",
       "      <th>invalid_date_sequence</th>\n",
       "      <th>user_first_cash_request_date</th>\n",
       "      <th>cohort</th>\n",
       "    </tr>\n",
       "  </thead>\n",
       "  <tbody>\n",
       "    <tr>\n",
       "      <th>12488</th>\n",
       "      <td>10960</td>\n",
       "      <td>100.0</td>\n",
       "      <td>money_back</td>\n",
       "      <td>2020-08-05 12:14:16.808893+00</td>\n",
       "      <td>2020-12-18 13:09:26.940982+00</td>\n",
       "      <td>33125</td>\n",
       "      <td>NaN</td>\n",
       "      <td>NaN</td>\n",
       "      <td>2020-09-01 22:00:00+00</td>\n",
       "      <td>2020-08-06</td>\n",
       "      <td>...</td>\n",
       "      <td>NaN</td>\n",
       "      <td>NaN</td>\n",
       "      <td>NaN</td>\n",
       "      <td>False</td>\n",
       "      <td>False</td>\n",
       "      <td>True</td>\n",
       "      <td>True</td>\n",
       "      <td>False</td>\n",
       "      <td>2020-07-15 23:40:52.315709+00:00</td>\n",
       "      <td>2020-07</td>\n",
       "    </tr>\n",
       "    <tr>\n",
       "      <th>2870</th>\n",
       "      <td>7626</td>\n",
       "      <td>100.0</td>\n",
       "      <td>rejected</td>\n",
       "      <td>2020-07-11 16:26:29.463059+00</td>\n",
       "      <td>2020-07-11 16:45:44.483569+00</td>\n",
       "      <td>31719</td>\n",
       "      <td>2020-07-11 16:45:44.48107+00</td>\n",
       "      <td>NaN</td>\n",
       "      <td>2020-08-05 22:00:00+00</td>\n",
       "      <td>NaN</td>\n",
       "      <td>...</td>\n",
       "      <td>NaN</td>\n",
       "      <td>NaN</td>\n",
       "      <td>NaN</td>\n",
       "      <td>True</td>\n",
       "      <td>False</td>\n",
       "      <td>False</td>\n",
       "      <td>False</td>\n",
       "      <td>False</td>\n",
       "      <td>2020-07-11 16:26:29.463059+00:00</td>\n",
       "      <td>2020-07</td>\n",
       "    </tr>\n",
       "    <tr>\n",
       "      <th>4580</th>\n",
       "      <td>12994</td>\n",
       "      <td>20.0</td>\n",
       "      <td>rejected</td>\n",
       "      <td>2020-08-18 21:29:47.638946+00</td>\n",
       "      <td>2020-08-19 09:22:48.516188+00</td>\n",
       "      <td>14784</td>\n",
       "      <td>2020-08-19 09:22:48.509242+00</td>\n",
       "      <td>NaN</td>\n",
       "      <td>2020-09-07 22:00:00+00</td>\n",
       "      <td>NaN</td>\n",
       "      <td>...</td>\n",
       "      <td>NaN</td>\n",
       "      <td>NaN</td>\n",
       "      <td>NaN</td>\n",
       "      <td>True</td>\n",
       "      <td>False</td>\n",
       "      <td>True</td>\n",
       "      <td>False</td>\n",
       "      <td>False</td>\n",
       "      <td>2020-07-30 12:37:38.925111+00:00</td>\n",
       "      <td>2020-07</td>\n",
       "    </tr>\n",
       "    <tr>\n",
       "      <th>15143</th>\n",
       "      <td>18783</td>\n",
       "      <td>100.0</td>\n",
       "      <td>money_back</td>\n",
       "      <td>2020-10-01 19:13:13.585555+00</td>\n",
       "      <td>2020-12-18 13:10:26.896928+00</td>\n",
       "      <td>57414</td>\n",
       "      <td>2020-10-02 07:45:29.822547+00</td>\n",
       "      <td>NaN</td>\n",
       "      <td>2020-11-02 22:00:00+00</td>\n",
       "      <td>NaN</td>\n",
       "      <td>...</td>\n",
       "      <td>NaN</td>\n",
       "      <td>NaN</td>\n",
       "      <td>NaN</td>\n",
       "      <td>True</td>\n",
       "      <td>False</td>\n",
       "      <td>True</td>\n",
       "      <td>True</td>\n",
       "      <td>False</td>\n",
       "      <td>2020-10-01 19:13:13.585555+00:00</td>\n",
       "      <td>2020-10</td>\n",
       "    </tr>\n",
       "    <tr>\n",
       "      <th>2067</th>\n",
       "      <td>6060</td>\n",
       "      <td>100.0</td>\n",
       "      <td>rejected</td>\n",
       "      <td>2020-07-01 05:51:43.851858+00</td>\n",
       "      <td>2020-07-01 16:05:14.288278+00</td>\n",
       "      <td>2740</td>\n",
       "      <td>2020-07-01 16:05:14.284193+00</td>\n",
       "      <td>2740.0</td>\n",
       "      <td>2020-08-04 22:00:00+00</td>\n",
       "      <td>NaN</td>\n",
       "      <td>...</td>\n",
       "      <td>NaN</td>\n",
       "      <td>NaN</td>\n",
       "      <td>NaN</td>\n",
       "      <td>True</td>\n",
       "      <td>True</td>\n",
       "      <td>False</td>\n",
       "      <td>False</td>\n",
       "      <td>False</td>\n",
       "      <td>2020-07-01 05:51:43.851858+00:00</td>\n",
       "      <td>2020-07</td>\n",
       "    </tr>\n",
       "  </tbody>\n",
       "</table>\n",
       "<p>5 rows × 23 columns</p>\n",
       "</div>"
      ],
      "text/plain": [
       "       cash_request_id  amount cash_request_status  \\\n",
       "12488            10960   100.0          money_back   \n",
       "2870              7626   100.0            rejected   \n",
       "4580             12994    20.0            rejected   \n",
       "15143            18783   100.0          money_back   \n",
       "2067              6060   100.0            rejected   \n",
       "\n",
       "             cash_request_created_at        cash_request_updated_at  user_id  \\\n",
       "12488  2020-08-05 12:14:16.808893+00  2020-12-18 13:09:26.940982+00    33125   \n",
       "2870   2020-07-11 16:26:29.463059+00  2020-07-11 16:45:44.483569+00    31719   \n",
       "4580   2020-08-18 21:29:47.638946+00  2020-08-19 09:22:48.516188+00    14784   \n",
       "15143  2020-10-01 19:13:13.585555+00  2020-12-18 13:10:26.896928+00    57414   \n",
       "2067   2020-07-01 05:51:43.851858+00  2020-07-01 16:05:14.288278+00     2740   \n",
       "\n",
       "                        moderated_at  deleted_account_id  \\\n",
       "12488                            NaN                 NaN   \n",
       "2870    2020-07-11 16:45:44.48107+00                 NaN   \n",
       "4580   2020-08-19 09:22:48.509242+00                 NaN   \n",
       "15143  2020-10-02 07:45:29.822547+00                 NaN   \n",
       "2067   2020-07-01 16:05:14.284193+00              2740.0   \n",
       "\n",
       "           reimbursement_date cash_request_received_date  ... recovery_status  \\\n",
       "12488  2020-09-01 22:00:00+00                 2020-08-06  ...             NaN   \n",
       "2870   2020-08-05 22:00:00+00                        NaN  ...             NaN   \n",
       "4580   2020-09-07 22:00:00+00                        NaN  ...             NaN   \n",
       "15143  2020-11-02 22:00:00+00                        NaN  ...             NaN   \n",
       "2067   2020-08-04 22:00:00+00                        NaN  ...             NaN   \n",
       "\n",
       "      reco_creation reco_last_update was_moderated was_deleted_account  \\\n",
       "12488           NaN              NaN         False               False   \n",
       "2870            NaN              NaN          True               False   \n",
       "4580            NaN              NaN          True               False   \n",
       "15143           NaN              NaN          True               False   \n",
       "2067            NaN              NaN          True                True   \n",
       "\n",
       "      was_sent  was_money_back  invalid_date_sequence  \\\n",
       "12488     True            True                  False   \n",
       "2870     False           False                  False   \n",
       "4580      True           False                  False   \n",
       "15143     True            True                  False   \n",
       "2067     False           False                  False   \n",
       "\n",
       "          user_first_cash_request_date   cohort  \n",
       "12488 2020-07-15 23:40:52.315709+00:00  2020-07  \n",
       "2870  2020-07-11 16:26:29.463059+00:00  2020-07  \n",
       "4580  2020-07-30 12:37:38.925111+00:00  2020-07  \n",
       "15143 2020-10-01 19:13:13.585555+00:00  2020-10  \n",
       "2067  2020-07-01 05:51:43.851858+00:00  2020-07  \n",
       "\n",
       "[5 rows x 23 columns]"
      ]
     },
     "execution_count": 69,
     "metadata": {},
     "output_type": "execute_result"
    }
   ],
   "source": [
    "cashrequestdf.sample(5)\n",
    "#TODO with this we can solve first kpi: 1. **Frequency of Service Usage:**"
   ]
  },
  {
   "cell_type": "code",
   "execution_count": 70,
   "metadata": {},
   "outputs": [
    {
     "name": "stderr",
     "output_type": "stream",
     "text": [
      "/var/folders/l6/tml7nl0s2dz6x09lhsl8hj840000gn/T/ipykernel_28789/2939964594.py:11: FutureWarning: \n",
      "\n",
      "Passing `palette` without assigning `hue` is deprecated and will be removed in v0.14.0. Assign the `x` variable to `hue` and set `legend=False` for the same effect.\n",
      "\n",
      "  sns.countplot(data=cashrequestdf, x='cohort', palette='viridis')  # <- Notice y='Country' instead of x\n"
     ]
    },
    {
     "data": {
      "image/png": "[encoded data removed]",
      "text/plain": [
       "<Figure size 1000x600 with 1 Axes>"
      ]
     },
     "metadata": {},
     "output_type": "display_data"
    }
   ],
   "source": [
    "import matplotlib.pyplot as plt\n",
    "import seaborn as sns\n",
    "\n",
    "# cash_request_by_cohorts = cashrequestdf.groupby(\"cohort\").agg({\"cash_request_id\": \"count\"}).reset_index()\n",
    "# sns.countplot(cash_request_by_cohorts[\"cohort\"], cash_request_by_cohorts[\"cash_request_id\"])\n",
    "\n",
    "cashrequestdf = cashrequestdf.sort_values('cohort') # ordered by cohort for the chart\n",
    "\n",
    "sns.set_theme(style=\"whitegrid\")\n",
    "plt.figure(figsize=(10, 6))\n",
    "sns.countplot(data=cashrequestdf, x='cohort', palette='viridis')  # <- Notice y='Country' instead of x\n",
    "plt.title('Cash Requests by Cohort')\n",
    "plt.xlabel('Cohort')\n",
    "plt.ylabel('Cash Requests')\n",
    "plt.xticks(rotation=45, ha='right')  # Rotate x labels for better visibility\n",
    "plt.tight_layout()\n",
    "plt.show()"
   ]
  },
  {
   "cell_type": "code",
   "execution_count": 71,
   "metadata": {},
   "outputs": [
    {
     "name": "stdout",
     "output_type": "stream",
     "text": [
      "21061\n",
      "21061\n"
     ]
    }
   ],
   "source": [
    "# 3. unir los dataframes  (incident rates esta en la tabla de fees)\n",
    "\n",
    "fees_with_user_id_and_cohort = pd.merge(left=feesdf, right=cashrequestdf, left_on=\"cash_request_id\", right_on=\"cash_request_id\", how=\"left\")\n",
    "print(feesdf.shape[0])\n",
    "print(fees_with_user_id_and_cohort.shape[0]) # same as above\n",
    "# TODO can do second metric here: 2. **Incident Rate:**\n",
    "# TODO can do third metric here: 3. **Revenue Generated by the Cohort:**\n"
   ]
  },
  {
   "cell_type": "code",
   "execution_count": 72,
   "metadata": {},
   "outputs": [],
   "source": [
    "# filtered only incidents\n",
    "fees_with_user_id_and_cohort = fees_with_user_id_and_cohort.sort_values('cohort') # ordered by cohort for the chart\n",
    "incident_feed = fees_with_user_id_and_cohort[fees_with_user_id_and_cohort[\"type\"] == \"incident\"]"
   ]
  },
  {
   "cell_type": "code",
   "execution_count": 73,
   "metadata": {},
   "outputs": [
    {
     "name": "stderr",
     "output_type": "stream",
     "text": [
      "/var/folders/l6/tml7nl0s2dz6x09lhsl8hj840000gn/T/ipykernel_28789/70515042.py:3: FutureWarning: \n",
      "\n",
      "Passing `palette` without assigning `hue` is deprecated and will be removed in v0.14.0. Assign the `x` variable to `hue` and set `legend=False` for the same effect.\n",
      "\n",
      "  sns.countplot(data=incident_feed, x='cohort', palette='viridis')  # <- Notice y='Country' instead of x\n"
     ]
    },
    {
     "ename": "AttributeError",
     "evalue": "'function' object has no attribute 'plot'",
     "output_type": "error",
     "traceback": [
      "\u001b[0;31m---------------------------------------------------------------------------\u001b[0m",
      "\u001b[0;31mAttributeError\u001b[0m                            Traceback (most recent call last)",
      "Cell \u001b[0;32mIn[73], line 4\u001b[0m\n\u001b[1;32m      2\u001b[0m plt\u001b[38;5;241m.\u001b[39mfigure(figsize\u001b[38;5;241m=\u001b[39m(\u001b[38;5;241m10\u001b[39m, \u001b[38;5;241m6\u001b[39m))\n\u001b[1;32m      3\u001b[0m sns\u001b[38;5;241m.\u001b[39mcountplot(data\u001b[38;5;241m=\u001b[39mincident_feed, x\u001b[38;5;241m=\u001b[39m\u001b[38;5;124m'\u001b[39m\u001b[38;5;124mcohort\u001b[39m\u001b[38;5;124m'\u001b[39m, palette\u001b[38;5;241m=\u001b[39m\u001b[38;5;124m'\u001b[39m\u001b[38;5;124mviridis\u001b[39m\u001b[38;5;124m'\u001b[39m)  \u001b[38;5;66;03m# <- Notice y='Country' instead of x\u001b[39;00m\n\u001b[0;32m----> 4\u001b[0m \u001b[43mincident_feed\u001b[49m\u001b[38;5;241;43m.\u001b[39;49m\u001b[43mpivot\u001b[49m\u001b[38;5;241;43m.\u001b[39;49m\u001b[43mplot\u001b[49m(kind\u001b[38;5;241m=\u001b[39m\u001b[38;5;124m'\u001b[39m\u001b[38;5;124mbar\u001b[39m\u001b[38;5;124m'\u001b[39m, stacked\u001b[38;5;241m=\u001b[39m\u001b[38;5;28;01mTrue\u001b[39;00m, colormap\u001b[38;5;241m=\u001b[39m\u001b[38;5;124m'\u001b[39m\u001b[38;5;124mviridis\u001b[39m\u001b[38;5;124m'\u001b[39m)\n\u001b[1;32m      5\u001b[0m plt\u001b[38;5;241m.\u001b[39mtitle(\u001b[38;5;124m'\u001b[39m\u001b[38;5;124mFee Incidents by Cohort\u001b[39m\u001b[38;5;124m'\u001b[39m)\n\u001b[1;32m      6\u001b[0m plt\u001b[38;5;241m.\u001b[39mxlabel(\u001b[38;5;124m'\u001b[39m\u001b[38;5;124mCohort\u001b[39m\u001b[38;5;124m'\u001b[39m)\n",
      "\u001b[0;31mAttributeError\u001b[0m: 'function' object has no attribute 'plot'"
     ]
    },
    {
     "data": {
      "image/png": "[encoded data removed]",
      "text/plain": [
       "<Figure size 1000x600 with 1 Axes>"
      ]
     },
     "metadata": {},
     "output_type": "display_data"
    }
   ],
   "source": [
    "sns.set_theme(style=\"whitegrid\")\n",
    "plt.figure(figsize=(10, 6))\n",
    "sns.countplot(data=incident_feed, x='cohort', palette='viridis')  # <- Notice y='Country' instead of x\n",
    "incident_feed.pivot.plot(kind='bar', stacked=True, colormap='viridis')\n",
    "plt.title('Fee Incidents by Cohort')\n",
    "plt.xlabel('Cohort')\n",
    "plt.ylabel('Fee Incidents')\n",
    "plt.xticks(rotation=45, ha='right')  # Rotate x labels for better visibility\n",
    "plt.tight_layout()\n",
    "plt.show()"
   ]
  },
  {
   "cell_type": "code",
   "execution_count": null,
   "metadata": {},
   "outputs": [
    {
     "data": {
      "image/png": "[encoded data removed]",
      "text/plain": [
       "<Figure size 1200x600 with 1 Axes>"
      ]
     },
     "metadata": {},
     "output_type": "display_data"
    }
   ],
   "source": [
    "pivot = incident_feed.pivot_table(\n",
    "    index='cohort', \n",
    "    columns='category', \n",
    "    values='fee_id', \n",
    "    aggfunc='count'\n",
    ").fillna(0)\n",
    "\n",
    "pivot.plot(\n",
    "    kind='bar',\n",
    "    stacked=True,\n",
    "    colormap='viridis',\n",
    "    figsize=(12, 6)\n",
    ")\n",
    "plt.title(\"Fee Incidents by Cohort\")\n",
    "plt.xlabel(\"Cohort\")\n",
    "plt.ylabel(\"Fee Incidents\")\n",
    "plt.xticks(rotation=45, ha='right')\n",
    "plt.tight_layout()\n",
    "plt.show()\n",
    "\n",
    "#! por que hay tan pocos incidentes en 2020-10 cuando hay muchos cash requests"
   ]
  },
  {
   "cell_type": "code",
   "execution_count": null,
   "metadata": {},
   "outputs": [
    {
     "name": "stderr",
     "output_type": "stream",
     "text": [
      "/var/folders/l6/tml7nl0s2dz6x09lhsl8hj840000gn/T/ipykernel_28789/529567035.py:17: FutureWarning: \n",
      "\n",
      "Passing `palette` without assigning `hue` is deprecated and will be removed in v0.14.0. Assign the `x` variable to `hue` and set `legend=False` for the same effect.\n",
      "\n",
      "  sns.barplot(data=fee_total_amount_by_cohort, x='cohort', y=\"total_amount\", palette='viridis')  # <- Notice y='Country' instead of x\n"
     ]
    },
    {
     "data": {
      "image/png": "[encoded data removed]",
      "text/plain": [
       "<Figure size 1000x600 with 1 Axes>"
      ]
     },
     "metadata": {},
     "output_type": "display_data"
    }
   ],
   "source": [
    "# 3. **Revenue Generated by the Cohort:**\n",
    "\n",
    "# 1. Accrual Accounting (most common for businesses)\n",
    "# 📌 Revenue is recognized when the invoice is created (earned), not when paid.\n",
    "# Example: If you issue an invoice on March 1 for services delivered, it's recorded as March revenue, even if the client pays in April.\n",
    "# This matches revenue to when it was actually earned, not when cash arrives.\n",
    "# ✅ Invoice creation = revenue recognition\n",
    "\n",
    "#! cuales son los 4 que no tienen cohort\n",
    "# fees_with_user_id_and_cohort[fees_with_user_id_and_cohort[\"cohort\"].isnull()]\n",
    "\n",
    "fee_total_amount_by_cohort = fees_with_user_id_and_cohort.groupby(\"cohort\").agg({\"total_amount\": \"sum\"}).reset_index()\n",
    "# print(fee_total_amount_by_cohort)\n",
    "\n",
    "sns.set_theme(style=\"whitegrid\")\n",
    "plt.figure(figsize=(10, 6))\n",
    "sns.barplot(data=fee_total_amount_by_cohort, x='cohort', y=\"total_amount\", palette='viridis')  # <- Notice y='Country' instead of x\n",
    "# incident_feed.pivot.plot(kind='bar', stacked=True, colormap='viridis')\n",
    "plt.title('Total Revenue by Cohort')\n",
    "plt.xlabel('Cohort')\n",
    "plt.ylabel('Revenue')\n",
    "plt.xticks(rotation=45, ha='right')  # Rotate x labels for better visibility\n",
    "plt.tight_layout()\n",
    "plt.show()\n",
    "\n",
    "#! en 2020-10 hay alto revenue porque hay pocas incidencias\n"
   ]
  },
  {
   "cell_type": "code",
   "execution_count": null,
   "metadata": {},
   "outputs": [],
   "source": [
    "# hacer correlacion entre incidents y revenue. Deberia dar hacia -1.\n",
    "# Entre mayor cash request, no necesariamente tenemos más revenue, hay que considerar incidentes."
   ]
  },
  {
   "cell_type": "code",
   "execution_count": null,
   "metadata": {},
   "outputs": [],
   "source": [
    "# buscar usuarios que generan más revenue o incidents"
   ]
  }
 ],
 "metadata": {
  "kernelspec": {
   "display_name": "Python 3",
   "language": "python",
   "name": "python3"
  },
  "language_info": {
   "codemirror_mode": {
    "name": "ipython",
    "version": 3
   },
   "file_extension": ".py",
   "mimetype": "text/x-python",
   "name": "python",
   "nbconvert_exporter": "python",
   "pygments_lexer": "ipython3",
   "version": "3.13.2"
  }
 },
 "nbformat": 4,
 "nbformat_minor": 2
}
